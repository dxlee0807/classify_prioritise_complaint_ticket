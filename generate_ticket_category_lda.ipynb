{
 "cells": [
  {
   "cell_type": "code",
   "execution_count": 1,
   "metadata": {},
   "outputs": [],
   "source": [
    "import pandas as pd\n",
    "import json\n",
    "import numpy as np\n",
    "import re\n",
    "import matplotlib.pyplot as plt\n",
    "import seaborn as sns\n",
    "\n",
    "from gensim.models.coherencemodel import CoherenceModel\n",
    "from gensim.corpora.dictionary import Dictionary\n",
    "from gensim.models.nmf import Nmf\n",
    "from gensim.models.ldamodel import LdaModel\n",
    "from gensim.models.ldamulticore import LdaMulticore\n",
    "from collections import Counter\n",
    "from operator import itemgetter"
   ]
  },
  {
   "cell_type": "code",
   "execution_count": 2,
   "metadata": {},
   "outputs": [
    {
     "data": {
      "text/html": [
       "<div>\n",
       "<style scoped>\n",
       "    .dataframe tbody tr th:only-of-type {\n",
       "        vertical-align: middle;\n",
       "    }\n",
       "\n",
       "    .dataframe tbody tr th {\n",
       "        vertical-align: top;\n",
       "    }\n",
       "\n",
       "    .dataframe thead th {\n",
       "        text-align: right;\n",
       "    }\n",
       "</style>\n",
       "<table border=\"1\" class=\"dataframe\">\n",
       "  <thead>\n",
       "    <tr style=\"text-align: right;\">\n",
       "      <th></th>\n",
       "      <th>old_index</th>\n",
       "      <th>preprocessed_text</th>\n",
       "    </tr>\n",
       "  </thead>\n",
       "  <tbody>\n",
       "    <tr>\n",
       "      <th>0</th>\n",
       "      <td>1</td>\n",
       "      <td>good morning name appreciate could help put st...</td>\n",
       "    </tr>\n",
       "    <tr>\n",
       "      <th>1</th>\n",
       "      <td>2</td>\n",
       "      <td>upgraded card tell agent upgrade anniversary d...</td>\n",
       "    </tr>\n",
       "    <tr>\n",
       "      <th>2</th>\n",
       "      <td>10</td>\n",
       "      <td>chase card report however fraudulent applicati...</td>\n",
       "    </tr>\n",
       "    <tr>\n",
       "      <th>3</th>\n",
       "      <td>11</td>\n",
       "      <td>try book ticket come across offer apply toward...</td>\n",
       "    </tr>\n",
       "    <tr>\n",
       "      <th>4</th>\n",
       "      <td>14</td>\n",
       "      <td>grand son give check deposit chase account fun...</td>\n",
       "    </tr>\n",
       "    <tr>\n",
       "      <th>...</th>\n",
       "      <td>...</td>\n",
       "      <td>...</td>\n",
       "    </tr>\n",
       "    <tr>\n",
       "      <th>21067</th>\n",
       "      <td>78303</td>\n",
       "      <td>chase card customer well decade offer multiple...</td>\n",
       "    </tr>\n",
       "    <tr>\n",
       "      <th>21068</th>\n",
       "      <td>78309</td>\n",
       "      <td>wednesday call chas visa credit card provider ...</td>\n",
       "    </tr>\n",
       "    <tr>\n",
       "      <th>21069</th>\n",
       "      <td>78310</td>\n",
       "      <td>familiar pay understand great risk provide con...</td>\n",
       "    </tr>\n",
       "    <tr>\n",
       "      <th>21070</th>\n",
       "      <td>78311</td>\n",
       "      <td>flawless credit chase credit card chase freedo...</td>\n",
       "    </tr>\n",
       "    <tr>\n",
       "      <th>21071</th>\n",
       "      <td>78312</td>\n",
       "      <td>roughly year ago close account morgan chase ba...</td>\n",
       "    </tr>\n",
       "  </tbody>\n",
       "</table>\n",
       "<p>21072 rows × 2 columns</p>\n",
       "</div>"
      ],
      "text/plain": [
       "       old_index                                  preprocessed_text\n",
       "0              1  good morning name appreciate could help put st...\n",
       "1              2  upgraded card tell agent upgrade anniversary d...\n",
       "2             10  chase card report however fraudulent applicati...\n",
       "3             11  try book ticket come across offer apply toward...\n",
       "4             14  grand son give check deposit chase account fun...\n",
       "...          ...                                                ...\n",
       "21067      78303  chase card customer well decade offer multiple...\n",
       "21068      78309  wednesday call chas visa credit card provider ...\n",
       "21069      78310  familiar pay understand great risk provide con...\n",
       "21070      78311  flawless credit chase credit card chase freedo...\n",
       "21071      78312  roughly year ago close account morgan chase ba...\n",
       "\n",
       "[21072 rows x 2 columns]"
      ]
     },
     "execution_count": 2,
     "metadata": {},
     "output_type": "execute_result"
    }
   ],
   "source": [
    "df = pd.read_csv('process_csv_stage_1.csv')\n",
    "df.columns = ['old_index','preprocessed_text']\n",
    "df"
   ]
  },
  {
   "cell_type": "code",
   "execution_count": 7,
   "metadata": {},
   "outputs": [],
   "source": [
    "## Initialise corpus, dictionary and topic numbers for NMF and LDA\n",
    "texts = df['preprocessed_text'].str.split(' ')\n",
    "\n",
    "dictionary = Dictionary(texts) # construct the word<->id mapping\n",
    "\n",
    "dictionary.filter_extremes(\n",
    "    no_below=5,\n",
    "    no_above=0.5,\n",
    "    keep_n=None\n",
    ")\n",
    "\n",
    "corpus = [dictionary.doc2bow(text) for text in texts]\n",
    "\n",
    "topic_nums = list(np.arange(5, 60 + 1, 5))"
   ]
  },
  {
   "cell_type": "code",
   "execution_count": 8,
   "metadata": {},
   "outputs": [
    {
     "name": "stdout",
     "output_type": "stream",
     "text": [
      "Word 5 (\"bank\") appears 1 time.\n",
      "Word 47 (\"would\") appears 1 time.\n",
      "Word 57 (\"report\") appears 1 time.\n",
      "Word 63 (\"apply\") appears 1 time.\n",
      "Word 68 (\"contacted\") appears 1 time.\n",
      "Word 70 (\"correct\") appears 1 time.\n",
      "Word 135 (\"inquiry\") appears 1 time.\n",
      "Word 144 (\"assure\") appears 1 time.\n",
      "Word 209 (\"two\") appears 1 time.\n",
      "Word 223 (\"company\") appears 2 time.\n",
      "Word 257 (\"review\") appears 1 time.\n",
      "Word 268 (\"year\") appears 1 time.\n",
      "Word 299 (\"initiate\") appears 1 time.\n",
      "Word 961 (\"amd\") appears 1 time.\n",
      "Word 962 (\"inaccuracy\") appears 1 time.\n",
      "Word 963 (\"involve\") appears 1 time.\n",
      "Word 964 (\"none\") appears 1 time.\n"
     ]
    }
   ],
   "source": [
    "document_num = 42\n",
    "bow_doc_x = corpus[document_num]\n",
    "\n",
    "for i in range(len(bow_doc_x)):\n",
    "    print('Word {} (\"{}\") appears {} time.'.format(bow_doc_x[i][0],\n",
    "    dictionary[bow_doc_x[i][0]],\n",
    "    bow_doc_x[i][1]))"
   ]
  }
 ],
 "metadata": {
  "kernelspec": {
   "display_name": "Python 3",
   "language": "python",
   "name": "python3"
  },
  "language_info": {
   "codemirror_mode": {
    "name": "ipython",
    "version": 3
   },
   "file_extension": ".py",
   "mimetype": "text/x-python",
   "name": "python",
   "nbconvert_exporter": "python",
   "pygments_lexer": "ipython3",
   "version": "3.8.0"
  }
 },
 "nbformat": 4,
 "nbformat_minor": 2
}
