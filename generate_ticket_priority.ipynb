{
 "cells": [
  {
   "cell_type": "markdown",
   "metadata": {},
   "source": [
    "references: https://www.kaggle.com/code/fengliplatform/customer-sentiment-analysis\n",
    "\n",
    "- from nltk.sentiment.vader import SentimentIntensityAnalyzer"
   ]
  },
  {
   "cell_type": "code",
   "execution_count": null,
   "metadata": {},
   "outputs": [],
   "source": [
    "# generate ticket priority\n",
    "# based on overall sentiment score (VADER), polarity, and topic frequency\n",
    "\n",
    "# complaint subjectivity (0-1), where one is extremely subjective, \n",
    "# the complaint polarity (-1 to 1)\n",
    "# topic frequency, the more frequent the topic exists in a single complaint, the higher priority it will be assigned.\n",
    "### use bert to vectorise ngram, topic modeling to find top 100 representative words, count frequency\n",
    "\n",
    "# then abc ranking (20-30-50)"
   ]
  },
  {
   "cell_type": "code",
   "execution_count": null,
   "metadata": {},
   "outputs": [],
   "source": []
  }
 ],
 "metadata": {
  "kernelspec": {
   "display_name": "Python 3",
   "language": "python",
   "name": "python3"
  },
  "language_info": {
   "name": "python",
   "version": "3.8.0"
  }
 },
 "nbformat": 4,
 "nbformat_minor": 2
}
