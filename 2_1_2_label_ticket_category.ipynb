{
 "cells": [
  {
   "cell_type": "code",
   "execution_count": 1,
   "metadata": {},
   "outputs": [],
   "source": [
    "import pandas as pd\n",
    "import os\n",
    "import json\n",
    "import re\n",
    "import numpy as np\n",
    "\n",
    "from gensim.models import Nmf\n",
    "from gensim.models.ldamulticore import LdaMulticore\n",
    "from top2vec import Top2Vec\n",
    "from bertopic import BERTopic\n",
    "\n",
    "from gensim.corpora.dictionary import Dictionary"
   ]
  },
  {
   "cell_type": "markdown",
   "metadata": {},
   "source": [
    "# loading dataset, topic models, and index-topic dictionary"
   ]
  },
  {
   "cell_type": "code",
   "execution_count": 2,
   "metadata": {},
   "outputs": [],
   "source": [
    "def get_raw_df():\n",
    "    # load raw complaint json into raw df \n",
    "    raw = pd.json_normalize(json.load(open(\"complaints-2021-05-14_08_16_.json\")))\n",
    "\n",
    "    # renaming column\n",
    "    raw.columns = ['index', 'type', 'id', 'score', 'tags', 'zip_code','complaint_id', 'issue', 'date_received',\n",
    "        'state', 'consumer_disputed', 'product','company_response', 'company', 'submitted_via',\n",
    "        'date_sent_to_company', 'company_public_response','sub_product', 'timely',\n",
    "        'complaint_what_happened', 'sub_issue','consumer_consent_provided']\n",
    "\n",
    "    # drop unnecessary columns\n",
    "    raw.drop(['index', 'type', 'id', 'score', 'tags', 'zip_code','complaint_id', 'issue', 'date_received',\n",
    "        'state', 'consumer_disputed', 'product','company_response', 'company', 'submitted_via',\n",
    "        'date_sent_to_company', 'company_public_response','sub_product', 'timely',\n",
    "        'sub_issue','consumer_consent_provided'],axis=1,inplace=True)\n",
    "\n",
    "    # drop null values\n",
    "    raw['complaint_what_happened'].replace(r'^\\s*$', np.nan, regex=True, inplace=True)\n",
    "    raw.dropna(inplace=True)\n",
    "\n",
    "    # clear masked values\n",
    "    def remove_mask(text):\n",
    "        masked_text_pattern = r\"\\b[x|X]{2,20}\"\n",
    "        return re.sub(masked_text_pattern,'',text)\n",
    "    \n",
    "    return raw.complaint_what_happened.apply(remove_mask)"
   ]
  },
  {
   "cell_type": "code",
   "execution_count": 3,
   "metadata": {},
   "outputs": [],
   "source": [
    "def get_processed_df():\n",
    "    df = pd.read_csv('process_csv_stage_1.csv')\n",
    "    df.columns = ['old_index','preprocessed_text']\n",
    "    return df"
   ]
  },
  {
   "cell_type": "code",
   "execution_count": 4,
   "metadata": {},
   "outputs": [
    {
     "data": {
      "text/plain": [
       "0        Good morning my name is   and I appreciate it ...\n",
       "1        I upgraded my   card in //2018 and was told by...\n",
       "2        Chase Card was reported on //2019. However, fr...\n",
       "3        On //2018, while trying to book a     ticket, ...\n",
       "4        my grand son give me check for {$1600.00} i de...\n",
       "                               ...                        \n",
       "21067    After being a Chase Card customer for well ove...\n",
       "21068    On Wednesday, // I called Chas, my   Visa Cred...\n",
       "21069    I am not familiar with  pay and did not unders...\n",
       "21070    I have had flawless credit for 30 yrs. I've ha...\n",
       "21071    Roughly 10+ years ago I closed out my accounts...\n",
       "Name: complaint_what_happened, Length: 21072, dtype: object"
      ]
     },
     "execution_count": 4,
     "metadata": {},
     "output_type": "execute_result"
    }
   ],
   "source": [
    "raw = get_raw_df()\n",
    "raw.reset_index(drop=True,inplace=True)\n",
    "raw"
   ]
  },
  {
   "cell_type": "code",
   "execution_count": 5,
   "metadata": {},
   "outputs": [
    {
     "data": {
      "text/html": [
       "<div>\n",
       "<style scoped>\n",
       "    .dataframe tbody tr th:only-of-type {\n",
       "        vertical-align: middle;\n",
       "    }\n",
       "\n",
       "    .dataframe tbody tr th {\n",
       "        vertical-align: top;\n",
       "    }\n",
       "\n",
       "    .dataframe thead th {\n",
       "        text-align: right;\n",
       "    }\n",
       "</style>\n",
       "<table border=\"1\" class=\"dataframe\">\n",
       "  <thead>\n",
       "    <tr style=\"text-align: right;\">\n",
       "      <th></th>\n",
       "      <th>old_index</th>\n",
       "      <th>preprocessed_text</th>\n",
       "    </tr>\n",
       "  </thead>\n",
       "  <tbody>\n",
       "    <tr>\n",
       "      <th>0</th>\n",
       "      <td>1</td>\n",
       "      <td>[good, morning, name, appreciate, could, help,...</td>\n",
       "    </tr>\n",
       "    <tr>\n",
       "      <th>1</th>\n",
       "      <td>2</td>\n",
       "      <td>[upgraded, card, tell, agent, upgrade, anniver...</td>\n",
       "    </tr>\n",
       "    <tr>\n",
       "      <th>2</th>\n",
       "      <td>10</td>\n",
       "      <td>[chase, card, report, however, fraudulent, app...</td>\n",
       "    </tr>\n",
       "    <tr>\n",
       "      <th>3</th>\n",
       "      <td>11</td>\n",
       "      <td>[try, book, ticket, come, across, offer, apply...</td>\n",
       "    </tr>\n",
       "    <tr>\n",
       "      <th>4</th>\n",
       "      <td>14</td>\n",
       "      <td>[grand, son, give, check, deposit, chase, acco...</td>\n",
       "    </tr>\n",
       "    <tr>\n",
       "      <th>...</th>\n",
       "      <td>...</td>\n",
       "      <td>...</td>\n",
       "    </tr>\n",
       "    <tr>\n",
       "      <th>21067</th>\n",
       "      <td>78303</td>\n",
       "      <td>[chase, card, customer, well, decade, offer, m...</td>\n",
       "    </tr>\n",
       "    <tr>\n",
       "      <th>21068</th>\n",
       "      <td>78309</td>\n",
       "      <td>[wednesday, call, chas, visa, credit, card, pr...</td>\n",
       "    </tr>\n",
       "    <tr>\n",
       "      <th>21069</th>\n",
       "      <td>78310</td>\n",
       "      <td>[familiar, pay, understand, great, risk, provi...</td>\n",
       "    </tr>\n",
       "    <tr>\n",
       "      <th>21070</th>\n",
       "      <td>78311</td>\n",
       "      <td>[flawless, credit, chase, credit, card, chase,...</td>\n",
       "    </tr>\n",
       "    <tr>\n",
       "      <th>21071</th>\n",
       "      <td>78312</td>\n",
       "      <td>[roughly, year, ago, close, account, morgan, c...</td>\n",
       "    </tr>\n",
       "  </tbody>\n",
       "</table>\n",
       "<p>21072 rows × 2 columns</p>\n",
       "</div>"
      ],
      "text/plain": [
       "       old_index                                  preprocessed_text\n",
       "0              1  [good, morning, name, appreciate, could, help,...\n",
       "1              2  [upgraded, card, tell, agent, upgrade, anniver...\n",
       "2             10  [chase, card, report, however, fraudulent, app...\n",
       "3             11  [try, book, ticket, come, across, offer, apply...\n",
       "4             14  [grand, son, give, check, deposit, chase, acco...\n",
       "...          ...                                                ...\n",
       "21067      78303  [chase, card, customer, well, decade, offer, m...\n",
       "21068      78309  [wednesday, call, chas, visa, credit, card, pr...\n",
       "21069      78310  [familiar, pay, understand, great, risk, provi...\n",
       "21070      78311  [flawless, credit, chase, credit, card, chase,...\n",
       "21071      78312  [roughly, year, ago, close, account, morgan, c...\n",
       "\n",
       "[21072 rows x 2 columns]"
      ]
     },
     "execution_count": 5,
     "metadata": {},
     "output_type": "execute_result"
    }
   ],
   "source": [
    "process_df = get_processed_df()\n",
    "process_df['preprocessed_text'] = process_df['preprocessed_text'].str.split(' ')\n",
    "process_df"
   ]
  },
  {
   "cell_type": "code",
   "execution_count": 6,
   "metadata": {},
   "outputs": [],
   "source": [
    "# load 4 topic models\n",
    "load_lda = LdaMulticore.load(os.path.join(os.getcwd(),'topic_models',\"final_tune_lda\"))\n",
    "load_nmf = Nmf.load(os.path.join(os.getcwd(),'topic_models',\"final_tune_nmf\"))\n",
    "load_t2v = Top2Vec.load(os.path.join(os.getcwd(),'topic_models','final_t2v'))\n",
    "load_bertopic = BERTopic.load(os.path.join(os.getcwd(),'topic_models','final_bertopic'))"
   ]
  },
  {
   "cell_type": "code",
   "execution_count": 7,
   "metadata": {},
   "outputs": [],
   "source": [
    "load_lda_id2word = Dictionary.load(os.path.join(os.getcwd(),'topic_models',\"final_tune_lda.id2word\"))"
   ]
  },
  {
   "cell_type": "markdown",
   "metadata": {},
   "source": [
    "# label the ticket category according to four different topic models"
   ]
  },
  {
   "cell_type": "code",
   "execution_count": 8,
   "metadata": {},
   "outputs": [],
   "source": [
    "def get_topic_lda(text, load_lda, load_id2word):\n",
    "    bow = load_id2word.doc2bow(text)\n",
    "    topics = sorted(load_lda[bow][0], key=lambda tup: -1*tup[1])\n",
    "    return topics[0][0]"
   ]
  },
  {
   "cell_type": "code",
   "execution_count": 9,
   "metadata": {},
   "outputs": [],
   "source": [
    "def get_topic_nmf(text, load_nmf, load_id2word):\n",
    "    bow = load_id2word.doc2bow(text)\n",
    "    topics = sorted(load_nmf[bow], key=lambda tup: -1*tup[1])\n",
    "    return topics[0][0]"
   ]
  },
  {
   "cell_type": "code",
   "execution_count": 10,
   "metadata": {},
   "outputs": [],
   "source": [
    "def get_topic_t2v(text, load_t2v):\n",
    "    t2v_topics_words, t2v_word_scores, t2v_topic_scores, t2v_topic_nums =load_t2v.query_topics(text,1)\n",
    "    return t2v_topic_nums[0]"
   ]
  },
  {
   "cell_type": "code",
   "execution_count": 11,
   "metadata": {},
   "outputs": [],
   "source": [
    "def get_topic_btp(text, load_btp):\n",
    "    predicted_topics, predicted_probs = load_btp.transform(text)\n",
    "    return predicted_topics[0]"
   ]
  },
  {
   "cell_type": "code",
   "execution_count": 12,
   "metadata": {},
   "outputs": [],
   "source": [
    "process_df['topic_lda'] = process_df['preprocessed_text'].apply(get_topic_lda,load_lda=load_lda,load_id2word = load_lda_id2word)"
   ]
  },
  {
   "cell_type": "code",
   "execution_count": 13,
   "metadata": {},
   "outputs": [],
   "source": [
    "process_df['topic_nmf'] = process_df['preprocessed_text'].apply(get_topic_nmf,load_nmf=load_nmf,load_id2word = load_lda_id2word)"
   ]
  },
  {
   "cell_type": "code",
   "execution_count": 14,
   "metadata": {},
   "outputs": [],
   "source": [
    "process_df['topic_t2v'] = raw.apply(get_topic_t2v,load_t2v=load_t2v)"
   ]
  },
  {
   "cell_type": "code",
   "execution_count": 15,
   "metadata": {},
   "outputs": [],
   "source": [
    "process_df['topic_btp'] = raw.apply(get_topic_btp,load_btp=load_bertopic)"
   ]
  },
  {
   "cell_type": "code",
   "execution_count": 16,
   "metadata": {},
   "outputs": [
    {
     "data": {
      "text/html": [
       "<div>\n",
       "<style scoped>\n",
       "    .dataframe tbody tr th:only-of-type {\n",
       "        vertical-align: middle;\n",
       "    }\n",
       "\n",
       "    .dataframe tbody tr th {\n",
       "        vertical-align: top;\n",
       "    }\n",
       "\n",
       "    .dataframe thead th {\n",
       "        text-align: right;\n",
       "    }\n",
       "</style>\n",
       "<table border=\"1\" class=\"dataframe\">\n",
       "  <thead>\n",
       "    <tr style=\"text-align: right;\">\n",
       "      <th></th>\n",
       "      <th>old_index</th>\n",
       "      <th>preprocessed_text</th>\n",
       "      <th>topic_lda</th>\n",
       "      <th>topic_nmf</th>\n",
       "      <th>topic_t2v</th>\n",
       "      <th>topic_btp</th>\n",
       "    </tr>\n",
       "  </thead>\n",
       "  <tbody>\n",
       "    <tr>\n",
       "      <th>0</th>\n",
       "      <td>1</td>\n",
       "      <td>good morning name appreciate could help put st...</td>\n",
       "      <td>2</td>\n",
       "      <td>2</td>\n",
       "      <td>0</td>\n",
       "      <td>34</td>\n",
       "    </tr>\n",
       "    <tr>\n",
       "      <th>1</th>\n",
       "      <td>2</td>\n",
       "      <td>upgraded card tell agent upgrade anniversary d...</td>\n",
       "      <td>5</td>\n",
       "      <td>6</td>\n",
       "      <td>0</td>\n",
       "      <td>2</td>\n",
       "    </tr>\n",
       "    <tr>\n",
       "      <th>2</th>\n",
       "      <td>10</td>\n",
       "      <td>chase card report however fraudulent applicati...</td>\n",
       "      <td>2</td>\n",
       "      <td>4</td>\n",
       "      <td>0</td>\n",
       "      <td>16</td>\n",
       "    </tr>\n",
       "    <tr>\n",
       "      <th>3</th>\n",
       "      <td>11</td>\n",
       "      <td>try book ticket come across offer apply toward...</td>\n",
       "      <td>5</td>\n",
       "      <td>4</td>\n",
       "      <td>0</td>\n",
       "      <td>24</td>\n",
       "    </tr>\n",
       "    <tr>\n",
       "      <th>4</th>\n",
       "      <td>14</td>\n",
       "      <td>grand son give check deposit chase account fun...</td>\n",
       "      <td>6</td>\n",
       "      <td>1</td>\n",
       "      <td>0</td>\n",
       "      <td>0</td>\n",
       "    </tr>\n",
       "    <tr>\n",
       "      <th>...</th>\n",
       "      <td>...</td>\n",
       "      <td>...</td>\n",
       "      <td>...</td>\n",
       "      <td>...</td>\n",
       "      <td>...</td>\n",
       "      <td>...</td>\n",
       "    </tr>\n",
       "    <tr>\n",
       "      <th>21067</th>\n",
       "      <td>78303</td>\n",
       "      <td>chase card customer well decade offer multiple...</td>\n",
       "      <td>5</td>\n",
       "      <td>6</td>\n",
       "      <td>0</td>\n",
       "      <td>2</td>\n",
       "    </tr>\n",
       "    <tr>\n",
       "      <th>21068</th>\n",
       "      <td>78309</td>\n",
       "      <td>wednesday call chas visa credit card provider ...</td>\n",
       "      <td>8</td>\n",
       "      <td>5</td>\n",
       "      <td>0</td>\n",
       "      <td>39</td>\n",
       "    </tr>\n",
       "    <tr>\n",
       "      <th>21069</th>\n",
       "      <td>78310</td>\n",
       "      <td>familiar pay understand great risk provide con...</td>\n",
       "      <td>3</td>\n",
       "      <td>2</td>\n",
       "      <td>0</td>\n",
       "      <td>9</td>\n",
       "    </tr>\n",
       "    <tr>\n",
       "      <th>21070</th>\n",
       "      <td>78311</td>\n",
       "      <td>flawless credit chase credit card chase freedo...</td>\n",
       "      <td>4</td>\n",
       "      <td>0</td>\n",
       "      <td>0</td>\n",
       "      <td>6</td>\n",
       "    </tr>\n",
       "    <tr>\n",
       "      <th>21071</th>\n",
       "      <td>78312</td>\n",
       "      <td>roughly year ago close account morgan chase ba...</td>\n",
       "      <td>0</td>\n",
       "      <td>0</td>\n",
       "      <td>0</td>\n",
       "      <td>73</td>\n",
       "    </tr>\n",
       "  </tbody>\n",
       "</table>\n",
       "<p>21072 rows × 6 columns</p>\n",
       "</div>"
      ],
      "text/plain": [
       "       old_index                                  preprocessed_text  \\\n",
       "0              1  good morning name appreciate could help put st...   \n",
       "1              2  upgraded card tell agent upgrade anniversary d...   \n",
       "2             10  chase card report however fraudulent applicati...   \n",
       "3             11  try book ticket come across offer apply toward...   \n",
       "4             14  grand son give check deposit chase account fun...   \n",
       "...          ...                                                ...   \n",
       "21067      78303  chase card customer well decade offer multiple...   \n",
       "21068      78309  wednesday call chas visa credit card provider ...   \n",
       "21069      78310  familiar pay understand great risk provide con...   \n",
       "21070      78311  flawless credit chase credit card chase freedo...   \n",
       "21071      78312  roughly year ago close account morgan chase ba...   \n",
       "\n",
       "       topic_lda  topic_nmf  topic_t2v  topic_btp  \n",
       "0              2          2          0         34  \n",
       "1              5          6          0          2  \n",
       "2              2          4          0         16  \n",
       "3              5          4          0         24  \n",
       "4              6          1          0          0  \n",
       "...          ...        ...        ...        ...  \n",
       "21067          5          6          0          2  \n",
       "21068          8          5          0         39  \n",
       "21069          3          2          0          9  \n",
       "21070          4          0          0          6  \n",
       "21071          0          0          0         73  \n",
       "\n",
       "[21072 rows x 6 columns]"
      ]
     },
     "execution_count": 16,
     "metadata": {},
     "output_type": "execute_result"
    }
   ],
   "source": [
    "process_df['preprocessed_text'] = process_df['preprocessed_text'].str.join(sep=' ')\n",
    "process_df"
   ]
  },
  {
   "cell_type": "code",
   "execution_count": 17,
   "metadata": {},
   "outputs": [],
   "source": [
    "process_df.to_csv(\"process_csv_stage_2.csv\",index=False)"
   ]
  }
 ],
 "metadata": {
  "kernelspec": {
   "display_name": "Python 3",
   "language": "python",
   "name": "python3"
  },
  "language_info": {
   "codemirror_mode": {
    "name": "ipython",
    "version": 3
   },
   "file_extension": ".py",
   "mimetype": "text/x-python",
   "name": "python",
   "nbconvert_exporter": "python",
   "pygments_lexer": "ipython3",
   "version": "3.8.0"
  }
 },
 "nbformat": 4,
 "nbformat_minor": 2
}
