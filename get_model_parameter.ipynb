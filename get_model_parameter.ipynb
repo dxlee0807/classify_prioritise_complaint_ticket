{
 "cells": [
  {
   "cell_type": "code",
   "execution_count": 1,
   "metadata": {},
   "outputs": [
    {
     "data": {
      "text/plain": [
       "{'estimator__C': 0.41753189365604004,\n",
       " 'estimator__class_weight': None,\n",
       " 'estimator__dual': 'warn',\n",
       " 'estimator__fit_intercept': True,\n",
       " 'estimator__intercept_scaling': 1,\n",
       " 'estimator__loss': 'squared_hinge',\n",
       " 'estimator__max_iter': 1000,\n",
       " 'estimator__multi_class': 'ovr',\n",
       " 'estimator__penalty': 'l2',\n",
       " 'estimator__random_state': 42,\n",
       " 'estimator__tol': 0.0001,\n",
       " 'estimator__verbose': 0,\n",
       " 'estimator': LinearSVC(C=0.41753189365604004, random_state=42),\n",
       " 'n_jobs': None}"
      ]
     },
     "execution_count": 1,
     "metadata": {},
     "output_type": "execute_result"
    }
   ],
   "source": [
    "import os\n",
    "from pickle import load\n",
    "with open(os.path.join(os.getcwd(),'ml_models',\"svc_tfidf_20240725_1.pkl\"), \"rb\") as f:\n",
    "    svc = load(f)\n",
    "\n",
    "svc.get_params()"
   ]
  }
 ],
 "metadata": {
  "kernelspec": {
   "display_name": "Python 3",
   "language": "python",
   "name": "python3"
  },
  "language_info": {
   "codemirror_mode": {
    "name": "ipython",
    "version": 3
   },
   "file_extension": ".py",
   "mimetype": "text/x-python",
   "name": "python",
   "nbconvert_exporter": "python",
   "pygments_lexer": "ipython3",
   "version": "3.8.0"
  }
 },
 "nbformat": 4,
 "nbformat_minor": 2
}
